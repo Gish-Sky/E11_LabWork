{
 "cells": [
  {
   "cell_type": "markdown",
   "id": "887761b2",
   "metadata": {},
   "source": [
    "# Homework 6 - Week 10"
   ]
  },
  {
   "cell_type": "code",
   "execution_count": 2,
   "id": "544429d5",
   "metadata": {},
   "outputs": [],
   "source": [
    "import numpy as np\n",
    "import matplotlib.pyplot as plt \n",
    "import pandas as pd"
   ]
  },
  {
   "cell_type": "markdown",
   "id": "fb15e1a8",
   "metadata": {},
   "source": [
    "#### Problem 1\n",
    "\n",
    "**(a)**\n",
    "You are using a Geiger counter to locate a radiation source. Moving around in the room where you believe the source is located, you are recording $50$ counts-per-minute (CPM) at one location. When you move $50 cm$ in one direction, the reading on the Geiger counter increases to $62.5 CPM$. \n",
    "\n",
    "NOTE: You can neglect any background radiation considerations for all parts. \n",
    "\n",
    "Assuming there is nothing in between you and the source, what is the distance to the source?\n",
    "\n",
    "**(b)**\n",
    "What count rate would you measure directly from the source (estimate this by calculating the count rate at $5 cm$).\n",
    "\n",
    "**(c)**\n",
    "If you see that the distance you estimated in part one would put the source on the other side of a concrete wall, does this change your estimate of the position of the source? Would it change your estimate of the count rate you would measure right next to the source (at $5 cm$)? Taking the wall thickness to be $20 cm$, and the linear attenuation coefficient for gamma radiation through concrete to be $0.15/cm$, update your answers for parts (a) and (b) accordingly.\n"
   ]
  },
  {
   "cell_type": "markdown",
   "id": "01ad4ee5",
   "metadata": {},
   "source": [
    "#### Problem 2\n",
    "\n",
    "Remembering that the rule of thumb for counting statistics only applies to total counts, meaning you then need to propogate that uncertainty to get the uncertainty on any CPM values stated, we will now concider how uncertainties would impact our results for problem 1.\n",
    "\n",
    "**(a)**\n",
    "If the estimates for the CPM values measured at each position in the first problem were made by collecting counts over 10 minutes, what is the uncertainty on the two CPM measurements?\n",
    "\n",
    "**(b)**\n",
    "What would be the resulting uncertainty on the distance to the source calculated in part **1.a**?\n",
    "\n",
    "NOTE 1: For $F(x) = C\\sqrt{x}$, the percent uncertainty on $F$ can be determined using $(\\frac{\\sigma_F}{F})^2 \\approx (\\frac{\\sigma_x}{2x})^2$. <br>\n",
    "NOTE 2: NOTE 1 is a good approximation even if you instead have a function that depends on $\\sqrt{x}$ in some non-linear way (e.g. $\\frac{1}{(1-\\sqrt{x})}$). <br>\n",
    "NOTE 3: Similarly, for $F = A/B$ where both $A$ and $B$ have uncertainties, $(\\frac{\\sigma_F}{F})^2 \\approx (\\frac{\\sigma_A}{A})^2 + (\\frac{\\sigma_B}{B})^2$.\n",
    "\n",
    "**(c)**\n",
    "What would be the uncertainty on your calculation of the count-rate from the source (at $5 cm$)?"
   ]
  },
  {
   "cell_type": "markdown",
   "id": "37f73f35",
   "metadata": {},
   "source": [
    "#### Problem 3\n",
    "\n",
    "Please include your lab work here - including all data plots and calculations for the attenuation coefficients for your different materials. This portion of the homework can be copied from your shared lab work."
   ]
  },
  {
   "cell_type": "code",
   "execution_count": 32,
   "id": "8981428b",
   "metadata": {},
   "outputs": [
    {
     "name": "stdout",
     "output_type": "stream",
     "text": [
      "[29, 29, 21, 22, 27, 22, 23, 25, 32, 31, 20, 34]\n",
      "[4, 8, 9, 4, 7, 9, 6, 9, 9, 3, 8, 10]\n",
      "[7, 7, 1, 10, 6, 7, 7, 7, 15, 9, 9, 4]\n",
      "[6, 9, 9, 4, 10, 6, 7, 3, 7, 4, 2, 3]\n",
      "[3, 6, 3, 2, 2, 4, 6, 1, 5, 0, 4, 3]\n",
      "[4, 6, 2, 2, 2, 4, 4, 5, 1, 3, 0, 3]\n",
      "[3, 1, 2, 0, 3, 1, 2, 2, 1, 0, 1, 4]\n"
     ]
    }
   ],
   "source": [
    "#Part 3\n",
    "#1.\n",
    "df1 = pd.read_csv('TRIAL_1_NOBARRIER.csv')\n",
    "df2 = pd.read_csv('TRIAL_2_1AL_BARRIER.csv')\n",
    "df3 = pd.read_csv('TRIAL_3_2AL_BARRIER.csv')\n",
    "df4 = pd.read_csv('TRIAL_4_3AL_BARRIER.csv')\n",
    "df5 = pd.read_csv('TRIAL_5_1TUNGSTEN_BARRIER.csv')\n",
    "df6 = pd.read_csv('TRIAL_6_2TUNGSTEN_BARRIER.csv')\n",
    "df7 = pd.read_csv('TRIAL_7_3TUNGSTEN_BARRIER.csv')\n",
    "\n",
    "df = [df1, df2, df3, df4, df5, df6, df7]\n",
    "\n",
    "#In the lab code, we forgot to reset the number of counts for every 10 seconds. This code fixes this issue for df's 1-7.\n",
    "#df1:\n",
    "df1_new = []\n",
    "inital_value = 0\n",
    "for i in range(len(df1['Counts'])):\n",
    "    new_value = df1.Counts[i] - inital_value\n",
    "    inital_value = df1.Counts[i]\n",
    "    df1_new.append(new_value)\n",
    "print(df1_new)\n",
    "\n",
    "#df2:\n",
    "df2_new = []\n",
    "inital_value = 0\n",
    "for i in range(len(df2['Counts'])):\n",
    "    new_value = df2.Counts[i] - inital_value\n",
    "    inital_value = df2.Counts[i]\n",
    "    df2_new.append(new_value)\n",
    "print(df2_new)\n",
    "\n",
    "#df3:\n",
    "df3_new = []\n",
    "inital_value = 0\n",
    "for i in range(len(df3['Counts'])):\n",
    "    new_value = df3.Counts[i] - inital_value\n",
    "    inital_value = df3.Counts[i]\n",
    "    df3_new.append(new_value)\n",
    "print(df3_new)\n",
    "\n",
    "#df4:\n",
    "df4_new = []\n",
    "inital_value = 0\n",
    "for i in range(len(df4['Counts'])):\n",
    "    new_value = df4.Counts[i] - inital_value\n",
    "    inital_value = df4.Counts[i]\n",
    "    df4_new.append(new_value)\n",
    "print(df4_new)\n",
    "\n",
    "#df5:\n",
    "df5_new = []\n",
    "inital_value = 0\n",
    "for i in range(len(df5['Counts'])):\n",
    "    new_value = df5.Counts[i] - inital_value\n",
    "    inital_value = df5.Counts[i]\n",
    "    df5_new.append(new_value)\n",
    "print(df5_new)\n",
    "\n",
    "#df6:\n",
    "df6_new = []\n",
    "inital_value = 0\n",
    "for i in range(len(df6['Counts'])):\n",
    "    new_value = df6.Counts[i] - inital_value\n",
    "    inital_value = df6.Counts[i]\n",
    "    df6_new.append(new_value)\n",
    "print(df6_new)\n",
    "\n",
    "#df7:\n",
    "df7_new = []\n",
    "inital_value = 0\n",
    "for i in range(len(df7['Counts'])):\n",
    "    new_value = df7.Counts[i] - inital_value\n",
    "    inital_value = df7.Counts[i]\n",
    "    df7_new.append(new_value)\n",
    "print(df7_new)\n",
    "\n",
    "#from now on, all data will be using df1-7_new"
   ]
  },
  {
   "cell_type": "code",
   "execution_count": 44,
   "metadata": {},
   "outputs": [
    {
     "name": "stdout",
     "output_type": "stream",
     "text": [
      "For df1_new: Mean = 26.25, STD = 4.529992641642294\n",
      "Theoretical STD for df1_new is 5.123475382979799\n",
      "For df2_new: Mean = 7.166666666666667, STD = 2.266911751455907\n",
      "Theoretical STD for df2_new is 2.6770630673681683\n",
      "For df3_new: Mean = 7.416666666666667, STD = 3.226410113767656\n",
      "Theoretical STD for df3_new is 2.7233557730613653\n",
      "For df4_new: Mean = 5.833333333333333, STD = 2.5440562537456244\n",
      "Theoretical STD for df4_new is 2.41522945769824\n",
      "For df5_new: Mean = 3.25, STD = 1.7853571071357126\n",
      "Theoretical STD for df5_new is 1.8027756377319946\n",
      "For df6_new: Mean = 3.0, STD = 1.632993161855452\n",
      "Theoretical STD for df6_new is 1.7320508075688772\n",
      "For df7_new: Mean = 1.6666666666666667, STD = 1.178511301977579\n",
      "Theoretical STD for df7_new is 1.2909944487358056\n"
     ]
    },
    {
     "data": {
      "image/png": "[encoded data removed]",
      "text/plain": [
       "<Figure size 640x480 with 1 Axes>"
      ]
     },
     "metadata": {},
     "output_type": "display_data"
    }
   ],
   "source": [
    "#2.\n",
    "                                                #Plot\n",
    "plt.hist(df1_new, bins = 12, alpha = .7, label = 'no barrier')\n",
    "plt.hist(df2_new, bins = 12, alpha = .7, label = '1 Al Barrier')\n",
    "plt.hist(df3_new, bins = 12, alpha = .7, label = '2 Al Barrier')\n",
    "plt.hist(df4_new, bins = 12, alpha = .7, label = '3 Al Barrier')\n",
    "plt.hist(df5_new, bins = 12, alpha = .7, label = '1 Tungsten Barrier')\n",
    "plt.hist(df6_new, bins = 12, alpha = .7, label = '2 Tungsten Barrier')\n",
    "plt.hist(df7_new, bins = 12, alpha = .7, label = '3 Tungsten Barrier')\n",
    "plt.xlabel('CPM')\n",
    "plt.ylabel('Frequency')\n",
    "plt.title('Uranium: Number of Counts vs. Frequency')\n",
    "\n",
    "\n",
    "                                                #Mean and STD:\n",
    "\n",
    "mean_1 = np.mean(df1_new)\n",
    "std_1 = np.std(df1_new)\n",
    "print(f'For df1_new: Mean = {mean_1}, STD = {std_1}')\n",
    "print(f'Theoretical STD for df1_new is {np.sqrt(mean_1)}')\n",
    "\n",
    "mean_2 = np.mean(df2_new)\n",
    "std_2 = np.std(df2_new)\n",
    "print(f'For df2_new: Mean = {mean_2}, STD = {std_2}')\n",
    "print(f'Theoretical STD for df2_new is {np.sqrt(mean_2)}')\n",
    "\n",
    "mean_3 = np.mean(df3_new)\n",
    "std_3 = np.std(df3_new)\n",
    "print(f'For df3_new: Mean = {mean_3}, STD = {std_3}')\n",
    "print(f'Theoretical STD for df3_new is {np.sqrt(mean_3)}')\n",
    "\n",
    "mean_4 = np.mean(df4_new)\n",
    "std_4 = np.std(df4_new)\n",
    "print(f'For df4_new: Mean = {mean_4}, STD = {std_4}')\n",
    "print(f'Theoretical STD for df4_new is {np.sqrt(mean_4)}')\n",
    "\n",
    "mean_5 = np.mean(df5_new)\n",
    "std_5 = np.std(df5_new)\n",
    "print(f'For df5_new: Mean = {mean_5}, STD = {std_5}')\n",
    "print(f'Theoretical STD for df5_new is {np.sqrt(mean_5)}')\n",
    "\n",
    "mean_6 = np.mean(df6_new)\n",
    "std_6 = np.std(df6_new)\n",
    "print(f'For df6_new: Mean = {mean_6}, STD = {std_6}')\n",
    "print(f'Theoretical STD for df6_new is {np.sqrt(mean_6)}')\n",
    "\n",
    "mean_7 = np.mean(df7_new)\n",
    "std_7 = np.std(df7_new)\n",
    "print(f'For df7_new: Mean = {mean_7}, STD = {std_7}')\n",
    "print(f'Theoretical STD for df7_new is {np.sqrt(mean_7)}')\n",
    "\n",
    "\n"
   ]
  },
  {
   "cell_type": "markdown",
   "id": "f0569340",
   "metadata": {},
   "source": [
    "2a. When comparing the mean to the STD of the results, we see that there is a large difference (>50% of either mean or std value). In general, the mean is larger than the std of the results. The measured std's should be almost equal, but at a miniscual amount, smaller than the theoretical std by .015. The outlier in this case would be the std for df3_new, as there is a .5 difference in std values. \n",
    "\n",
    "2b. A general trend that is seen is that the more barriers (thickness of absorber), the lesser the counts. The values of trials 2, 3, 4 and 5, 6, 7 differ because of material, but by looking at trials that have the same material, we see an inverse relationship between the thickness of absorber and number of counts"
   ]
  },
  {
   "cell_type": "code",
   "execution_count": null,
   "id": "11b5f4d0",
   "metadata": {},
   "outputs": [],
   "source": []
  }
 ],
 "metadata": {
  "kernelspec": {
   "display_name": "Python 3 (ipykernel)",
   "language": "python",
   "name": "python3"
  },
  "language_info": {
   "codemirror_mode": {
    "name": "ipython",
    "version": 3
   },
   "file_extension": ".py",
   "mimetype": "text/x-python",
   "name": "python",
   "nbconvert_exporter": "python",
   "pygments_lexer": "ipython3",
   "version": "3.11.5"
  }
 },
 "nbformat": 4,
 "nbformat_minor": 5
}
