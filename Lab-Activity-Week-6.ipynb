{
 "cells": [
  {
   "cell_type": "markdown",
   "id": "3e71f9aa",
   "metadata": {},
   "source": [
    "# Lab Activity Week 6\n",
    "\n",
    "**Homework** Anything you do not complete in lab is your homework. Please provide a link to your github repository as your homework submission."
   ]
  },
  {
   "cell_type": "markdown",
   "id": "48ec41b9",
   "metadata": {},
   "source": [
    "### Step 1 - Review: Comparing Indoor vs Outdoor data\n",
    "- Cut out any data that was part of your outdoor data set that was not taken outdoors or take a new outdoor data set that runs for an extra 30s to give you time to get outside and then cut out that 30s interval\n",
    "  - Recall we learned methods for slicing dataframes in week 2\n",
    "- Now produce histogram plots that compare indoors vs outdoors for each of your data types - don't forget labels\n",
    "- Compare the mean and standard deviation values for each set of indoor data versus outdoor data, are they in agreement?\n",
    "  - NOTE: The variance in your data is not the uncertainty on the mean (central limit theorem)\n",
    "  - what is your mean uncertainty?\n",
    "  - How many inside mean standard deviations (1 sigma uncertainty) are your inside and outside measurements separated by?\n",
    "- If your distributions were not well described by a Gaussian, do you think you took enough data for the central limit theorem to apply?"
   ]
  },
  {
   "cell_type": "markdown",
   "id": "64b4fa74",
   "metadata": {},
   "source": [
    "### Step 2: Comparing sensors\n",
    "- Get inside/outside data from another group in your lab and compare your inside data with their inside data, including all of elements from Step 1. - Do the same statistical comparison of your outside data with the outside data from the other group.\n",
    "- How do the sensors compare? What do you think this indicates about the accuracy and precision of your sensors?"
   ]
  },
  {
   "cell_type": "markdown",
   "id": "9695b28c",
   "metadata": {},
   "source": [
    "### Step 3: More locations\n",
    "- Consider other areas you could take your sensors where you might find a larger change in the data: for example, is there somewhere near lab where the air quality might be significantly worse?\n",
    "- Set up your system to be able to run in a way that would allow you to get to that location and take ~5 minutes of data.\n",
    "  - This might require adding additional input arguments, like a delayed start time, or changing to running indefinitely but making sure that your data is being collected and saved even if your script does not run gracefully.\n",
    "- Compare this new set of data with your other outdoor data, including the same set of graphs and statistical comparisons made for earlier steps."
   ]
  },
  {
   "cell_type": "markdown",
   "id": "4a9a58a1",
   "metadata": {},
   "source": [
    "### Step 4: Correlations in data\n",
    "- Plot temperature vs humidity\n",
    "  - NOTE: These were taken by the same sensor at the same time, so each measurement matches up in time, meaning plotting one versus the other works. \n",
    "  - What is the hidden variable that is important when making plots like this?\n",
    "- What does this plot show? Are temperature and humidity correlated? How would you quantify this?\n",
    "  - HINT: there are linear correlation comparisons you can make mathematically such as the Pearson's correlation or similar (linear $R^2$), is the correlation you are seeing linear? Can you implement these in code?\n",
    "- Plot temperature vs another property measured by that sensor, are they correlated? Is the correlation qualitatively similar to what you see from temperature vs humidity?\n",
    "  - try this for all data types (temp. vs pressure, temp. vs voc, etc.)\n",
    "  \n",
    "- Plot temperature vs PM2.5 concentration and discuss as with the previous comparisons.\n",
    "  - This will require coming up with a way to ensure that the times match between sensors, what about the way you are collecting data ensures that this is true?\n",
    " "
   ]
  }
 ],
 "metadata": {
  "kernelspec": {
   "display_name": "Python 3 (ipykernel)",
   "language": "python",
   "name": "python3"
  },
  "language_info": {
   "codemirror_mode": {
    "name": "ipython",
    "version": 3
   },
   "file_extension": ".py",
   "mimetype": "text/x-python",
   "name": "python",
   "nbconvert_exporter": "python",
   "pygments_lexer": "ipython3",
   "version": "3.11.5"
  }
 },
 "nbformat": 4,
 "nbformat_minor": 5
}
