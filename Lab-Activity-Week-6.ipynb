{
 "cells": [
  {
   "cell_type": "markdown",
   "id": "3e71f9aa",
   "metadata": {},
   "source": [
    "# Lab Activity Week 6\n",
    "\n",
    "**Homework** Anything you do not complete in lab is your homework. Please provide a link to your github repository as your homework submission."
   ]
  },
  {
   "cell_type": "code",
   "execution_count": 29,
   "id": "30758063",
   "metadata": {},
   "outputs": [],
   "source": [
    "import pandas as pd\n",
    "import numpy as np\n",
    "import matplotlib.pyplot as plt\n",
    "import seaborn as sns"
   ]
  },
  {
   "cell_type": "markdown",
   "id": "48ec41b9",
   "metadata": {},
   "source": [
    "### Step 1 - Review: Comparing Indoor vs Outdoor data\n",
    "- Cut out any data that was part of your outdoor data set that was not taken outdoors or take a new outdoor data set that runs for an extra 30s to give you time to get outside and then cut out that 30s interval\n",
    "  - Recall we learned methods for slicing dataframes in week 2\n",
    "- Now produce histogram plots that compare indoors vs outdoors for each of your data types - don't forget labels\n",
    "- Compare the mean and standard deviation values for each set of indoor data versus outdoor data, are they in agreement?\n",
    "  - NOTE: The variance in your data is not the uncertainty on the mean (central limit theorem)\n",
    "  - what is your mean uncertainty?\n",
    "  - How many inside mean standard deviations (1 sigma uncertainty) are your inside and outside measurements separated by?\n",
    "- If your distributions were not well described by a Gaussian, do you think you took enough data for the central limit theorem to apply?"
   ]
  },
  {
   "cell_type": "code",
   "execution_count": 30,
   "id": "fb585b27",
   "metadata": {},
   "outputs": [
    {
     "data": {
      "text/html": [
       "<div>\n",
       "<style scoped>\n",
       "    .dataframe tbody tr th:only-of-type {\n",
       "        vertical-align: middle;\n",
       "    }\n",
       "\n",
       "    .dataframe tbody tr th {\n",
       "        vertical-align: top;\n",
       "    }\n",
       "\n",
       "    .dataframe thead th {\n",
       "        text-align: right;\n",
       "    }\n",
       "</style>\n",
       "<table border=\"1\" class=\"dataframe\">\n",
       "  <thead>\n",
       "    <tr style=\"text-align: right;\">\n",
       "      <th></th>\n",
       "      <th>Time</th>\n",
       "      <th>Temperature</th>\n",
       "      <th>Gas</th>\n",
       "      <th>Relative_Humididty</th>\n",
       "      <th>Pressure</th>\n",
       "      <th>Altitude</th>\n",
       "      <th>PM1</th>\n",
       "      <th>PM2.5</th>\n",
       "      <th>PM10</th>\n",
       "    </tr>\n",
       "  </thead>\n",
       "  <tbody>\n",
       "    <tr>\n",
       "      <th>0</th>\n",
       "      <td>1.708129e+09</td>\n",
       "      <td>33.914766</td>\n",
       "      <td>356969</td>\n",
       "      <td>100.000000</td>\n",
       "      <td>698.528280</td>\n",
       "      <td>3029.237108</td>\n",
       "      <td>3</td>\n",
       "      <td>4</td>\n",
       "      <td>4</td>\n",
       "    </tr>\n",
       "    <tr>\n",
       "      <th>1</th>\n",
       "      <td>1.708129e+09</td>\n",
       "      <td>26.556758</td>\n",
       "      <td>41200</td>\n",
       "      <td>37.807000</td>\n",
       "      <td>1008.371439</td>\n",
       "      <td>40.696758</td>\n",
       "      <td>3</td>\n",
       "      <td>4</td>\n",
       "      <td>4</td>\n",
       "    </tr>\n",
       "    <tr>\n",
       "      <th>2</th>\n",
       "      <td>1.708129e+09</td>\n",
       "      <td>26.581758</td>\n",
       "      <td>54746</td>\n",
       "      <td>37.749602</td>\n",
       "      <td>1008.369829</td>\n",
       "      <td>40.710220</td>\n",
       "      <td>3</td>\n",
       "      <td>4</td>\n",
       "      <td>4</td>\n",
       "    </tr>\n",
       "    <tr>\n",
       "      <th>3</th>\n",
       "      <td>1.708129e+09</td>\n",
       "      <td>26.610469</td>\n",
       "      <td>70891</td>\n",
       "      <td>37.668621</td>\n",
       "      <td>1008.381344</td>\n",
       "      <td>40.613969</td>\n",
       "      <td>3</td>\n",
       "      <td>4</td>\n",
       "      <td>4</td>\n",
       "    </tr>\n",
       "    <tr>\n",
       "      <th>4</th>\n",
       "      <td>1.708129e+09</td>\n",
       "      <td>26.638203</td>\n",
       "      <td>87236</td>\n",
       "      <td>37.575588</td>\n",
       "      <td>1008.377120</td>\n",
       "      <td>40.649275</td>\n",
       "      <td>3</td>\n",
       "      <td>4</td>\n",
       "      <td>4</td>\n",
       "    </tr>\n",
       "    <tr>\n",
       "      <th>...</th>\n",
       "      <td>...</td>\n",
       "      <td>...</td>\n",
       "      <td>...</td>\n",
       "      <td>...</td>\n",
       "      <td>...</td>\n",
       "      <td>...</td>\n",
       "      <td>...</td>\n",
       "      <td>...</td>\n",
       "      <td>...</td>\n",
       "    </tr>\n",
       "    <tr>\n",
       "      <th>351</th>\n",
       "      <td>1.708129e+09</td>\n",
       "      <td>17.556953</td>\n",
       "      <td>513185</td>\n",
       "      <td>54.298775</td>\n",
       "      <td>1007.642924</td>\n",
       "      <td>46.787681</td>\n",
       "      <td>5</td>\n",
       "      <td>7</td>\n",
       "      <td>8</td>\n",
       "    </tr>\n",
       "    <tr>\n",
       "      <th>352</th>\n",
       "      <td>1.708129e+09</td>\n",
       "      <td>17.557734</td>\n",
       "      <td>513185</td>\n",
       "      <td>54.298875</td>\n",
       "      <td>1007.649440</td>\n",
       "      <td>46.733181</td>\n",
       "      <td>5</td>\n",
       "      <td>7</td>\n",
       "      <td>8</td>\n",
       "    </tr>\n",
       "    <tr>\n",
       "      <th>353</th>\n",
       "      <td>1.708129e+09</td>\n",
       "      <td>17.559297</td>\n",
       "      <td>512795</td>\n",
       "      <td>54.299075</td>\n",
       "      <td>1007.648530</td>\n",
       "      <td>46.740793</td>\n",
       "      <td>5</td>\n",
       "      <td>7</td>\n",
       "      <td>8</td>\n",
       "    </tr>\n",
       "    <tr>\n",
       "      <th>354</th>\n",
       "      <td>1.708129e+09</td>\n",
       "      <td>17.554219</td>\n",
       "      <td>512795</td>\n",
       "      <td>54.298426</td>\n",
       "      <td>1007.640159</td>\n",
       "      <td>46.810801</td>\n",
       "      <td>5</td>\n",
       "      <td>7</td>\n",
       "      <td>8</td>\n",
       "    </tr>\n",
       "    <tr>\n",
       "      <th>355</th>\n",
       "      <td>1.708129e+09</td>\n",
       "      <td>17.548750</td>\n",
       "      <td>516725</td>\n",
       "      <td>54.304256</td>\n",
       "      <td>1007.632887</td>\n",
       "      <td>46.871619</td>\n",
       "      <td>5</td>\n",
       "      <td>7</td>\n",
       "      <td>8</td>\n",
       "    </tr>\n",
       "  </tbody>\n",
       "</table>\n",
       "<p>356 rows × 9 columns</p>\n",
       "</div>"
      ],
      "text/plain": [
       "             Time  Temperature     Gas  Relative_Humididty     Pressure  \\\n",
       "0    1.708129e+09    33.914766  356969          100.000000   698.528280   \n",
       "1    1.708129e+09    26.556758   41200           37.807000  1008.371439   \n",
       "2    1.708129e+09    26.581758   54746           37.749602  1008.369829   \n",
       "3    1.708129e+09    26.610469   70891           37.668621  1008.381344   \n",
       "4    1.708129e+09    26.638203   87236           37.575588  1008.377120   \n",
       "..            ...          ...     ...                 ...          ...   \n",
       "351  1.708129e+09    17.556953  513185           54.298775  1007.642924   \n",
       "352  1.708129e+09    17.557734  513185           54.298875  1007.649440   \n",
       "353  1.708129e+09    17.559297  512795           54.299075  1007.648530   \n",
       "354  1.708129e+09    17.554219  512795           54.298426  1007.640159   \n",
       "355  1.708129e+09    17.548750  516725           54.304256  1007.632887   \n",
       "\n",
       "        Altitude  PM1  PM2.5  PM10  \n",
       "0    3029.237108    3      4     4  \n",
       "1      40.696758    3      4     4  \n",
       "2      40.710220    3      4     4  \n",
       "3      40.613969    3      4     4  \n",
       "4      40.649275    3      4     4  \n",
       "..           ...  ...    ...   ...  \n",
       "351    46.787681    5      7     8  \n",
       "352    46.733181    5      7     8  \n",
       "353    46.740793    5      7     8  \n",
       "354    46.810801    5      7     8  \n",
       "355    46.871619    5      7     8  \n",
       "\n",
       "[356 rows x 9 columns]"
      ]
     },
     "execution_count": 30,
     "metadata": {},
     "output_type": "execute_result"
    }
   ],
   "source": [
    "# our OutsideData.csv is already solely outdoors, so we are good to go!\n",
    "\n",
    "outdoors = pd.read_csv(\"OutsideData.csv\")\n",
    "outdoors"
   ]
  },
  {
   "cell_type": "markdown",
   "id": "c9115b65",
   "metadata": {},
   "source": [
    "This is for PM1!"
   ]
  },
  {
   "cell_type": "code",
   "execution_count": 45,
   "id": "5289ce9c",
   "metadata": {},
   "outputs": [
    {
     "data": {
      "image/png": "[encoded data removed]",
      "text/plain": [
       "<Figure size 640x480 with 1 Axes>"
      ]
     },
     "metadata": {},
     "output_type": "display_data"
    }
   ],
   "source": [
    "indoors = pd.read_csv(\"InsideData.csv\")\n",
    "pm1_outdoor_mean = np.mean(outdoors['PM1'])\n",
    "pm1_indoor_mean = np.mean(indoors['PM1'])\n",
    "pm1_outdoor_std = np.std(outdoors['PM1'])\n",
    "pm1_indoor_std = np.std(indoors['PM1'])\n",
    "plt.plot(pm1_outdoor_mean, 100, label = 'pm1 outdoor mean', marker = 'o')\n",
    "plt.plot(pm1_indoor_mean, 100, label = 'pm1 indoor mean', marker = 'o')\n",
    "plt.hist(indoors['PM1'], alpha = 0.7, label = 'indoors')\n",
    "plt.hist(outdoors['PM1'], alpha = 0.7, label = 'outdoors')\n",
    "plt.title(\"Comparison of Outdoors v Indoors PM1\")\n",
    "plt.legend()\n",
    "plt.show()"
   ]
  },
  {
   "cell_type": "code",
   "execution_count": 49,
   "id": "93f0eba5",
   "metadata": {},
   "outputs": [
    {
     "name": "stdout",
     "output_type": "stream",
     "text": [
      "The outdoor mean for PM1 is 4.075842696629214 and the outdoor std is 1.2050365363371083 . The uncertainty is 0.0014534387101198156\n",
      "The indoor mean for PM1 is 2.292929292929293 and the indoor std is 0.5174241808026544\n"
     ]
    }
   ],
   "source": [
    "pm1_outdoor_mean = np.mean(outdoors['PM1'])\n",
    "pm1_indoor_mean = np.mean(indoors['PM1'])\n",
    "pm1_outdoor_std = np.std(outdoors['PM1'])\n",
    "pm1_indoor_std = np.std(indoors['PM1'])\n",
    "pm1_outdoor_unc = pm1_indoor_std/len(outdoors['PM1'])\n",
    "print(\"The outdoor mean for PM1 is\", pm1_outdoor_mean, \"and the outdoor std is\", pm1_outdoor_std, \". The uncertainty is\", pm1_outdoor_unc)\n",
    "print(\"The indoor mean for PM1 is\", pm1_indoor_mean, \"and the indoor std is\", pm1_indoor_std)\n",
    "#uncertainty = sd/sqrt(num stuff)"
   ]
  },
  {
   "cell_type": "markdown",
   "id": "39b340d9",
   "metadata": {},
   "source": [
    "This is for PM2.5"
   ]
  },
  {
   "cell_type": "code",
   "execution_count": 32,
   "id": "c61b83e2",
   "metadata": {},
   "outputs": [
    {
     "data": {
      "image/png": "[encoded data removed]",
      "text/plain": [
       "<Figure size 640x480 with 1 Axes>"
      ]
     },
     "metadata": {},
     "output_type": "display_data"
    }
   ],
   "source": [
    "plt.hist(indoors['PM2.5'], alpha = 0.7, label = 'indoors')\n",
    "plt.hist(outdoors['PM2.5'], alpha = 0.7, label = 'outdoors')\n",
    "plt.title(\"Comparison of Outdoors v Indoors PM2.5\")\n",
    "plt.legend()\n",
    "plt.show()"
   ]
  },
  {
   "cell_type": "markdown",
   "id": "0c3b72af",
   "metadata": {},
   "source": [
    "This is for PM10!"
   ]
  },
  {
   "cell_type": "code",
   "execution_count": 33,
   "id": "61890a47",
   "metadata": {},
   "outputs": [
    {
     "data": {
      "image/png": "[encoded data removed]",
      "text/plain": [
       "<Figure size 640x480 with 1 Axes>"
      ]
     },
     "metadata": {},
     "output_type": "display_data"
    }
   ],
   "source": [
    "plt.hist(indoors['PM10'], alpha = 0.7, label = 'indoors')\n",
    "plt.hist(outdoors['PM10'], alpha = 0.7, label = 'outdoors')\n",
    "plt.legend()\n",
    "plt.title(\"Comparison of Outdoors v Indoors PM10\")\n",
    "plt.show()"
   ]
  },
  {
   "cell_type": "markdown",
   "id": "64b4fa74",
   "metadata": {},
   "source": [
    "### Step 2: Comparing sensors\n",
    "- Get inside/outside data from another group in your lab and compare your inside data with their inside data, including all of elements from Step 1. - Do the same statistical comparison of your outside data with the outside data from the other group.\n",
    "- How do the sensors compare? What do you think this indicates about the accuracy and precision of your sensors?"
   ]
  },
  {
   "cell_type": "markdown",
   "id": "9695b28c",
   "metadata": {},
   "source": [
    "### Step 3: More locations\n",
    "- Consider other areas you could take your sensors where you might find a larger change in the data: for example, is there somewhere near lab where the air quality might be significantly worse?\n",
    "- Set up your system to be able to run in a way that would allow you to get to that location and take ~5 minutes of data.\n",
    "  - This might require adding additional input arguments, like a delayed start time, or changing to running indefinitely but making sure that your data is being collected and saved even if your script does not run gracefully.\n",
    "- Compare this new set of data with your other outdoor data, including the same set of graphs and statistical comparisons made for earlier steps."
   ]
  },
  {
   "cell_type": "markdown",
   "id": "4a9a58a1",
   "metadata": {},
   "source": [
    "### Step 4: Correlations in data\n",
    "- Plot temperature vs humidity\n",
    "  - NOTE: These were taken by the same sensor at the same time, so each measurement matches up in time, meaning plotting one versus the other works. \n",
    "  - What is the hidden variable that is important when making plots like this?\n",
    "- What does this plot show? Are temperature and humidity correlated? How would you quantify this?\n",
    "  - HINT: there are linear correlation comparisons you can make mathematically such as the Pearson's correlation or similar (linear $R^2$), is the correlation you are seeing linear? Can you implement these in code?\n",
    "- Plot temperature vs another property measured by that sensor, are they correlated? Is the correlation qualitatively similar to what you see from temperature vs humidity?\n",
    "  - try this for all data types (temp. vs pressure, temp. vs voc, etc.)\n",
    "  \n",
    "- Plot temperature vs PM2.5 concentration and discuss as with the previous comparisons.\n",
    "  - This will require coming up with a way to ensure that the times match between sensors, what about the way you are collecting data ensures that this is true?\n",
    " "
   ]
  }
 ],
 "metadata": {
  "kernelspec": {
   "display_name": "Python 3 (ipykernel)",
   "language": "python",
   "name": "python3"
  },
  "language_info": {
   "codemirror_mode": {
    "name": "ipython",
    "version": 3
   },
   "file_extension": ".py",
   "mimetype": "text/x-python",
   "name": "python",
   "nbconvert_exporter": "python",
   "pygments_lexer": "ipython3",
   "version": "3.11.5"
  }
 },
 "nbformat": 4,
 "nbformat_minor": 5
}
