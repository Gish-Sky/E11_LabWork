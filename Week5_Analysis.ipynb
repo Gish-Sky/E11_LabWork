{
 "cells": [
  {
   "cell_type": "code",
   "execution_count": 2,
   "metadata": {},
   "outputs": [],
   "source": [
    "import math as m\n",
    "import matplotlib as plt\n",
    "import numpy as np\n",
    "import pandas as pd\n",
    "import scipy as sp \n",
    "import constants as c"
   ]
  },
  {
   "cell_type": "code",
   "execution_count": 7,
   "metadata": {},
   "outputs": [
    {
     "name": "stdout",
     "output_type": "stream",
     "text": [
      "             Time  Temperature     Gas  Relative_Humididty     Pressure   \n",
      "0    1.708128e+09    33.914766   76275          100.000000   698.528280  \\\n",
      "1    1.708128e+09    26.801094   25656           37.622439  1008.367177   \n",
      "2    1.708128e+09    26.824141   34305           37.552892  1008.369424   \n",
      "3    1.708128e+09    26.849336   42357           37.465622  1008.366333   \n",
      "4    1.708128e+09    26.870820   50247           37.389985  1008.360720   \n",
      "..            ...          ...     ...                 ...          ...   \n",
      "292  1.708128e+09    26.727461  380545           36.849325  1008.328336   \n",
      "293  1.708128e+09    26.725898  381622           36.831270  1008.329322   \n",
      "294  1.708128e+09    26.724727  381406           36.855012  1008.334482   \n",
      "295  1.708128e+09    26.724727  381838           36.843081  1008.336250   \n",
      "296  1.708128e+09    26.725313  380330           36.843140  1008.326598   \n",
      "\n",
      "        Altitude  PM1  PM2.5  PM10  \n",
      "0    3029.237108    3      4     5  \n",
      "1      40.732381    3      4     5  \n",
      "2      40.713599    3      4     5  \n",
      "3      40.739435    3      4     5  \n",
      "4      40.786352    3      4     5  \n",
      "..           ...  ...    ...   ...  \n",
      "292    41.057030    2      4     4  \n",
      "293    41.048789    2      3     3  \n",
      "294    41.005661    2      3     3  \n",
      "295    40.990882    2      3     3  \n",
      "296    41.071561    2      3     3  \n",
      "\n",
      "[297 rows x 9 columns]\n"
     ]
    }
   ],
   "source": [
    "df = pd.read_csv(\"https://raw.githubusercontent.com/Gish-Sky/E11_LabWork/main/InsideData.csv\")\n",
    "print(df)"
   ]
  },
  {
   "cell_type": "code",
   "execution_count": 12,
   "metadata": {},
   "outputs": [
    {
     "name": "stdout",
     "output_type": "stream",
     "text": [
      "0      1.708128e+09\n",
      "1      1.708128e+09\n",
      "2      1.708128e+09\n",
      "3      1.708128e+09\n",
      "4      1.708128e+09\n",
      "           ...     \n",
      "292    1.708128e+09\n",
      "293    1.708128e+09\n",
      "294    1.708128e+09\n",
      "295    1.708128e+09\n",
      "296    1.708128e+09\n",
      "Name: Time, Length: 297, dtype: float64\n",
      "0      33.914766\n",
      "1      26.801094\n",
      "2      26.824141\n",
      "3      26.849336\n",
      "4      26.870820\n",
      "         ...    \n",
      "292    26.727461\n",
      "293    26.725898\n",
      "294    26.724727\n",
      "295    26.724727\n",
      "296    26.725313\n",
      "Name: Temperature, Length: 297, dtype: float64\n"
     ]
    }
   ],
   "source": [
    "x = df['Time']\n",
    "y_Temperature = df['Temperature']\n",
    "\n",
    "\n"
   ]
  },
  {
   "cell_type": "code",
   "execution_count": 11,
   "metadata": {},
   "outputs": [
    {
     "name": "stdout",
     "output_type": "stream",
     "text": [
      "26.80109375\n"
     ]
    }
   ],
   "source": []
  }
 ],
 "metadata": {
  "kernelspec": {
   "display_name": "Python 3",
   "language": "python",
   "name": "python3"
  },
  "language_info": {
   "codemirror_mode": {
    "name": "ipython",
    "version": 3
   },
   "file_extension": ".py",
   "mimetype": "text/x-python",
   "name": "python",
   "nbconvert_exporter": "python",
   "pygments_lexer": "ipython3",
   "version": "3.11.5"
  }
 },
 "nbformat": 4,
 "nbformat_minor": 2
}
